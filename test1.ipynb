{
 "cells": [
  {
   "cell_type": "code",
   "execution_count": 5,
   "id": "4e5541c3",
   "metadata": {},
   "outputs": [
    {
     "name": "stdout",
     "output_type": "stream",
     "text": [
      "310\n"
     ]
    }
   ],
   "source": [
    "'''1 Scenario: A grocery shopkeeper wants to calculate the bill of 3 items. Prices and quantities should be \n",
    "tored in variables,and the program should display the total cost.\n",
    "Sample Input:\n",
    "Item1 Price: 50, Quantity: 2\n",
    "Item2 Price: 30, Quantity: 5\n",
    "Item3 Price: 20, Quantity: 3\n",
    "Expected Output:\n",
    "Total Bill = (50*2) + (30*5) + (20*3) = 100 + 150 + 60 = 310'''\n",
    "p1,q1=map(int,input().split())\n",
    "p2,q2=map(int,input().split())\n",
    "p3,q3=map(int,input().split())\n",
    "total_bill=(p1*q1)+(p2*q2)+(p3*q3)\n",
    "print(total_bill)"
   ]
  },
  {
   "cell_type": "code",
   "execution_count": 6,
   "id": "3fbef0f3",
   "metadata": {},
   "outputs": [
    {
     "name": "stdout",
     "output_type": "stream",
     "text": [
      "Addition =  19\n",
      "Subtraction =  11\n",
      "Multiplication =  60\n",
      "Division =  3.75\n",
      "Modulus =  3\n"
     ]
    }
   ],
   "source": [
    "'''2 Build a calculator that takes two numbers and performs addition, subtraction, multiplication, division, and modulus.\n",
    "Sample Input:\n",
    "Enter first number: 15\n",
    "Enter second number: 4\n",
    "Expected Output:\n",
    "Addition = 19\n",
    "Subtraction = 11\n",
    "Multiplication = 60\n",
    "Division = 3.75\n",
    "Modulus = 3'''\n",
    "a,b=map(int,input().split())\n",
    "print(\"Addition = \",a+b)\n",
    "print(\"Subtraction = \",a-b)\n",
    "print(\"Multiplication = \",a*b)\n",
    "print(\"Division = \",a/b)\n",
    "print(\"Modulus = \",a%b)"
   ]
  },
  {
   "cell_type": "code",
   "execution_count": 10,
   "id": "b7062f2a",
   "metadata": {},
   "outputs": [
    {
     "name": "stdout",
     "output_type": "stream",
     "text": [
      "A (Excellent)\n"
     ]
    }
   ],
   "source": [
    "'''3 A teacher wants a grading system where marks are input, and the grade is displayed.\n",
    "Sample Input:\n",
    "Enter marks: 82\n",
    "Expected Output:\n",
    "Grade: A (Excellent)\n",
    "(Rules: >=90 → A+, 80-89 → A, 70-79 → B, 60-69 → C, <60 → Fail)'''\n",
    "marks=int(input(\"Enter marks\"))\n",
    "if marks<60:\n",
    "    print(\"Fail\")\n",
    "elif marks>=60 and marks<=69:\n",
    "    print(\"C (good)\")\n",
    "elif marks>=70 and marks<=79:\n",
    "    print(\"B (very good)\")\n",
    "elif marks>=80 and marks<=89:\n",
    "    print(\"A (Excellent)\")\n",
    "else:\n",
    "    print(\"A+ (outstanding)\")"
   ]
  },
  {
   "cell_type": "code",
   "execution_count": 12,
   "id": "1b601a49",
   "metadata": {},
   "outputs": [
    {
     "name": "stdout",
     "output_type": "stream",
     "text": [
      "Highest Marks = 90\n",
      "Lowest Marks =  45\n",
      "Average Marks =  71.4\n"
     ]
    }
   ],
   "source": [
    "'''4 Student Marks List\n",
    "Scenario: Store marks of 5 students in a list. Display the highest, lowest, and average marks.\n",
    "Sample Input:\n",
    "Marks: [45, 78, 88, 56, 90]\n",
    "Expected Output:\n",
    "Highest Marks = 90\n",
    "Lowest Marks = 45\n",
    "Average Marks = 71.4'''\n",
    "marks=list(map(int,input().split()))\n",
    "print(\"Highest Marks =\",max(marks))\n",
    "print(\"Lowest Marks = \",min(marks))\n",
    "avg=sum(marks)/len(marks)\n",
    "print(\"Average Marks = \",avg)\n"
   ]
  },
  {
   "cell_type": "code",
   "execution_count": 15,
   "id": "23ea4941",
   "metadata": {},
   "outputs": [
    {
     "name": "stdout",
     "output_type": "stream",
     "text": [
      "Phone Number of Ravi:  9123456780\n"
     ]
    }
   ],
   "source": [
    "'''5 Create a phonebook using a dictionary where names are keys and numbers are values. Allow searching for a number by name.\n",
    "Sample Input:\n",
    "Phonebook = {\"Suhel\": 9876543210, \"Ravi\": 9123456780, \"Anita\": 9988776655}\n",
    "Search Name: Ravi\n",
    "Expected Output:\n",
    "Phone Number of Ravi: 9123456780'''\n",
    "Phonebook = {\"Suhel\": 9876543210, \"Ravi\": 9123456780, \"Anita\": 9988776655}\n",
    "Search_Name=\"Ravi\"\n",
    "print(\"Phone Number of Ravi: \",Phonebook[Search_Name])\n"
   ]
  },
  {
   "cell_type": "code",
   "execution_count": 18,
   "id": "019b779f",
   "metadata": {},
   "outputs": [
    {
     "name": "stdout",
     "output_type": "stream",
     "text": [
      "Total Words =  3\n",
      "Total Characters =  15\n",
      "Total Vowels =  6\n"
     ]
    }
   ],
   "source": [
    "'''6 Write a program to count the number of words, characters, and vowels in a sentence. \n",
    "Sample Input:\n",
    "Enter sentence: \"Python is awesome\"\n",
    "Expected Output:\n",
    "Total Words = 3\n",
    "Total Characters = 16\n",
    "Total Vowels = 6\n",
    " '''\n",
    "s=input()\n",
    "vowels=set('aeiouAEIOU')\n",
    "v=0\n",
    "c=0\n",
    "w=1\n",
    "for i in s:\n",
    "    if i!=\" \":\n",
    "        c+=1\n",
    "    if i in vowels:\n",
    "        v+=1\n",
    "    if i==\" \":\n",
    "        w+=1\n",
    "print(\"Total Words = \",w)\n",
    "print(\"Total Characters = \",c)\n",
    "print(\"Total Vowels = \",v)\n",
    "    \n",
    "\n"
   ]
  },
  {
   "cell_type": "code",
   "execution_count": 25,
   "id": "efca77e7",
   "metadata": {},
   "outputs": [
    {
     "name": "stdout",
     "output_type": "stream",
     "text": [
      "Principal = 5000\n",
      "Rate = 5.0\n",
      "Time = 2\n",
      "Compound Interest =  512.5 2\n",
      "Total Amount =  5512.5\n"
     ]
    }
   ],
   "source": [
    "'''7 A bank provides simple interest and compound interest. A user inputs principal, rate, time, and type of interest. \n",
    "Program should calculate accordingly.\n",
    "Sample Input:\n",
    "Principal = 5000\n",
    "Rate = 5\n",
    "Time = 2\n",
    "Interest Type = Compound\n",
    "Expected Output:\n",
    "Compound Interest = 512.50\n",
    "Total Amount = 5512.50\n",
    "'''\n",
    "p = int(input(\"Enter Principal: \"))\n",
    "r = float(input(\"Enter Rate: \"))\n",
    "t = int(input(\"Enter Time: \"))\n",
    "interest_type = input(\"Enter Interest Type (Simple/Compound): \")\n",
    "print(\"Principal =\", p)\n",
    "print(\"Rate =\", r)\n",
    "print(\"Time =\", t)\n",
    "if interest_type.lower() == \"compound\":\n",
    "    amount = p * (1 + r/100) ** t\n",
    "    c_i = amount - p\n",
    "    print(\"Compound Interest = \",c_i,2)\n",
    "    print(\"Total Amount = \",amount)\n",
    "else:\n",
    "    s_i = (p * r * t) / 100\n",
    "    print(\"Simple Interest = \",c_i)\n",
    "    print(\"Total Amount = \",amount)"
   ]
  },
  {
   "cell_type": "code",
   "execution_count": 22,
   "id": "4d03fcfc",
   "metadata": {},
   "outputs": [
    {
     "name": "stdout",
     "output_type": "stream",
     "text": [
      "Principal = 5000\n",
      "Rate = 2.0\n",
      "Time = 5\n",
      "Compound Interest =  520.4040160000004\n",
      "Total Amount =  5520.404016\n"
     ]
    }
   ],
   "source": [
    "p = int(input(\"Enter Principal: \"))\n",
    "r = float(input(\"Enter Rate: \"))\n",
    "t = int(input(\"Enter Time: \"))\n",
    "interest_type = input(\"Enter Interest Type (Simple/Compound): \")\n",
    "print(\"Principal =\", p)\n",
    "print(\"Rate =\", r)\n",
    "print(\"Time =\", t)\n",
    "if interest_type.lower() == \"compound\":\n",
    "    amount = p * (1 + r/100) ** t\n",
    "    c_i = amount - p\n",
    "    print(\"Compound Interest = \",c_i)\n",
    "    print(\"Total Amount = \",amount)\n",
    "else:\n",
    "    s_i = (p * r * t) / 100\n",
    "    print(\"Simple Interest = \",c_i)\n",
    "    print(\"Total Amount = \",amount)"
   ]
  }
 ],
 "metadata": {
  "kernelspec": {
   "display_name": "Python 3",
   "language": "python",
   "name": "python3"
  },
  "language_info": {
   "codemirror_mode": {
    "name": "ipython",
    "version": 3
   },
   "file_extension": ".py",
   "mimetype": "text/x-python",
   "name": "python",
   "nbconvert_exporter": "python",
   "pygments_lexer": "ipython3",
   "version": "3.11.0"
  }
 },
 "nbformat": 4,
 "nbformat_minor": 5
}
