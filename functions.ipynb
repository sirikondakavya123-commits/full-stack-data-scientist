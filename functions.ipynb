{
 "cells": [
  {
   "cell_type": "code",
   "execution_count": 7,
   "id": "7098dd25",
   "metadata": {},
   "outputs": [
    {
     "name": "stdout",
     "output_type": "stream",
     "text": [
      "[2, 3, 5, 7, 11, 13, 17, 19]\n"
     ]
    }
   ],
   "source": [
    "'''1. Prime Number Finder\n",
    "   * Function that returns all prime numbers up to `n`.\n",
    "   * Input: `n = 20`\n",
    "   * Output: `[2, 3, 5, 7, 11, 13, 17, 19]`\n",
    "'''\n",
    "def primes_upto(n):\n",
    "    primes = []\n",
    "    for i in range(2, n + 1):\n",
    "        for j in range(2, i):\n",
    "            if i % j == 0:\n",
    "                break\n",
    "        else:\n",
    "            primes.append(i)\n",
    "    return primes\n",
    "n = int(input(\"Enter n: \"))\n",
    "print(primes_upto(n))\n",
    "\n"
   ]
  },
  {
   "cell_type": "code",
   "execution_count": 19,
   "id": "ba1ad9d3",
   "metadata": {},
   "outputs": [
    {
     "name": "stdout",
     "output_type": "stream",
     "text": [
      "True\n"
     ]
    }
   ],
   "source": [
    "'''2.Palindrome Checker\n",
    "   * Check if a string is palindrome (ignoring spaces & case).\n",
    "   * Input: `\"Never odd or even\"`\n",
    "   * Output: `True`'''\n",
    "str = \"Never odd or even\"\n",
    "s = text.replace(\" \", \"\")\n",
    "t= s[::-1] \n",
    "if t.lower()==s.lower():\n",
    "    print(\"True\")\n",
    "else:\n",
    "    print(\"False\")\n",
    "\n"
   ]
  },
  {
   "cell_type": "code",
   "execution_count": null,
   "id": "d5d169a6",
   "metadata": {},
   "outputs": [
    {
     "name": "stdout",
     "output_type": "stream",
     "text": [
      "listen\n",
      "silent\n",
      "True\n"
     ]
    }
   ],
   "source": [
    "'''4.Anagram Checker\n",
    "   * Function checks if two words are anagrams.\n",
    "   * Input: `\"listen\", \"silent\"`\n",
    "   * Output: `True`'''\n",
    "def anagram(s1, s2):\n",
    "    s1 = s1.lower().replace(\" \", \"\")\n",
    "    s2 = s2.lower().replace(\" \", \"\")\n",
    "    print(s1)\n",
    "    print(s2)\n",
    "    return sorted(s1) == sorted(s2)\n",
    "s1 = input()\n",
    "s2 = input()\n",
    "print(anagram(s1, s2))\n"
   ]
  },
  {
   "cell_type": "code",
   "execution_count": null,
   "id": "10f4f6c8",
   "metadata": {},
   "outputs": [
    {
     "name": "stdout",
     "output_type": "stream",
     "text": [
      "amazing\n"
     ]
    }
   ],
   "source": [
    "'''5. Longest Word Finder\n",
    "* Return longest word in a sentence.\n",
    "* Input: `\"Python is amazing\"`\n",
    "* Output: `\"amazing\"`'''\n",
    "'''def longest_word(s):\n",
    "    words = s.split()             \n",
    "    return max(words, key=len)     \n",
    "sentence = input(\"Enter a sentence: \")\n",
    "print(longest_word(sentence))\n",
    "'''\n",
    "def longest_word(s):\n",
    "    words = s.split()    \n",
    "    max_len = 0\n",
    "    l = \"\"\n",
    "    for w in words:\n",
    "        if len(w) > max_len:\n",
    "            max_len = len(w)\n",
    "            l = w\n",
    "    return l\n",
    "sentence = input()\n",
    "print(longest_word(sentence))\n",
    "\n"
   ]
  }
 ],
 "metadata": {
  "kernelspec": {
   "display_name": "Python 3",
   "language": "python",
   "name": "python3"
  },
  "language_info": {
   "codemirror_mode": {
    "name": "ipython",
    "version": 3
   },
   "file_extension": ".py",
   "mimetype": "text/x-python",
   "name": "python",
   "nbconvert_exporter": "python",
   "pygments_lexer": "ipython3",
   "version": "3.11.0"
  }
 },
 "nbformat": 4,
 "nbformat_minor": 5
}
