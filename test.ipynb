{
 "cells": [
  {
   "cell_type": "code",
   "execution_count": null,
   "metadata": {},
   "outputs": [
    {
     "name": "stdout",
     "output_type": "stream",
     "text": [
      "Enter 2 numbers: \n",
      "Enter operation (+, -, *): \n",
      "13\n"
     ]
    }
   ],
   "source": [
    "#1.You are developing a small calculator app. Write a program that takes two numbers from the user and swaps them without using a third variable, so users can correct their input order.\n",
    " \n",
    "print(\"Enter 2 numbers: \")\n",
    "a, b = map(int, input().split())\n",
    "print(\"Enter operation (+, -, *): \")\n",
    "c = input()\n",
    "if c == '+':\n",
    "    print(a + b)\n",
    "elif c == '-':\n",
    "    print(a - b)\n",
    "elif c == '*':\n",
    "    print(a * b)\n",
    "elif c=='/':\n",
    "    print(a/b)\n",
    "else:\n",
    "    print(\"Invalid operation\")\n"
   ]
  },
  {
   "cell_type": "code",
   "execution_count": null,
   "metadata": {},
   "outputs": [
    {
     "name": "stdout",
     "output_type": "stream",
     "text": [
      "akiwtur"
     ]
    }
   ],
   "source": [
    "#2.A library wants to build a feature to display book titles backwards for a “mirror view” theme. Write a program that reverses a given string without using slicing.\n",
    "a=input()\n",
    "for i in range(len(a)-1,-1,-1):\n",
    "    print(a[i],end=\"\")"
   ]
  },
  {
   "cell_type": "code",
   "execution_count": 32,
   "metadata": {},
   "outputs": [
    {
     "name": "stdout",
     "output_type": "stream",
     "text": [
      "Not an Armstrong number\n"
     ]
    }
   ],
   "source": [
    "#3. An ATM machine verifies special numbers before processing transactions. Write a program to check if a number entered by the customer is an Armstrong number.\n",
    "n = input()\n",
    "s = 0\n",
    "l = n\n",
    "t=len(n)\n",
    "while int(n) > 0:\n",
    "    d = int(n) % 10\n",
    "    s = s + d**t\n",
    "    n = int(n )// 10\n",
    "if int(s) == int(l):\n",
    "    print(\"Armstrong number\")\n",
    "else:\n",
    "    print(\"Not an Armstrong number\")"
   ]
  },
  {
   "cell_type": "code",
   "execution_count": null,
   "metadata": {},
   "outputs": [],
   "source": [
    "\n",
    "#4. A language learning app wants to check how many vowels and consonants a user has typed in a practice sentence. Write a program to count vowels and consonants in a given\n",
    "a=input()\n",
    "print(a)\n",
    "vowels=set('aeiouAEIOU')\n",
    "v=0\n",
    "c=0\n",
    "for i in a:\n",
    "    if i in vowels:\n",
    "        v+=1\n",
    "    else:\n",
    "        c+=1\n",
    "print('vowels=',v,'consonants=',c)"
   ]
  },
  {
   "cell_type": "code",
   "execution_count": 34,
   "metadata": {},
   "outputs": [
    {
     "name": "stdout",
     "output_type": "stream",
     "text": [
      "5\n",
      "10\n",
      "15\n",
      "20\n",
      "25\n",
      "30\n",
      "35\n",
      "40\n",
      "45\n",
      "50\n"
     ]
    }
   ],
   "source": [
    "#5.In an e-learning platform, when a student inputs a number, the system should generate its multiplication table (up to 10) as practice material. Write a program to do this.\n",
    "a=int(input())\n",
    "for i in range(1,11):\n",
    "    print(a*i)"
   ]
  },
  {
   "cell_type": "code",
   "execution_count": 39,
   "metadata": {},
   "outputs": [
    {
     "name": "stdout",
     "output_type": "stream",
     "text": [
      "It is a leap year\n"
     ]
    }
   ],
   "source": [
    "#6.A travel company checks leap years to calculate special discounts on leap day. Write a program to check if a given year is a leap year.\n",
    "a = int(input(\"Enter a year: \"))\n",
    "if (a % 400 == 0) or (a % 4 == 0 and a % 100 != 0):\n",
    "    print(\"It is a leap year\")\n",
    "else:\n",
    "    print(\"It is not a leap year\")\n"
   ]
  },
  {
   "cell_type": "code",
   "execution_count": 43,
   "metadata": {},
   "outputs": [
    {
     "name": "stdout",
     "output_type": "stream",
     "text": [
      "76\n"
     ]
    }
   ],
   "source": [
    "#7.A gaming app wants to determine the highest score out of 5 attempts. Write a program to take 5 numbers as input and print the largest.\n",
    "n=int(input())\n",
    "l=list(map(int,input().split()))\n",
    "print(max(l))"
   ]
  },
  {
   "cell_type": "code",
   "execution_count": 47,
   "metadata": {},
   "outputs": [
    {
     "name": "stdout",
     "output_type": "stream",
     "text": [
      "89\n"
     ]
    }
   ],
   "source": [
    "n=int(input())\n",
    "l=list()\n",
    "for i in range(n):\n",
    "    l.append(int(input()))\n",
    "print(max(l))"
   ]
  },
  {
   "cell_type": "code",
   "execution_count": null,
   "metadata": {},
   "outputs": [
    {
     "name": "stdout",
     "output_type": "stream",
     "text": [
      "Id is palindrome\n"
     ]
    }
   ],
   "source": [
    "#8.A healthcare app stores patient IDs and checks if they are palindromes for easy recall. Write a program that checks if a given string ID is a palindrome.\n",
    "s=input()\n",
    "l=s[::-1]\n",
    "if s==l:\n",
    "    print(\"Id is palindrome\")\n",
    "else:\n",
    "    print(\"Id is not palindrome\")"
   ]
  },
  {
   "cell_type": "code",
   "execution_count": 52,
   "metadata": {},
   "outputs": [
    {
     "name": "stdout",
     "output_type": "stream",
     "text": [
      "120\n"
     ]
    }
   ],
   "source": [
    "#9.A factory wants to calculate the number of ways workers can be arranged in a line. Write a program to find the factorial of a number.\n",
    "n=int(input())\n",
    "f=1\n",
    "for i in range(1,n+1):\n",
    "    f=f*i\n",
    "print(f)"
   ]
  },
  {
   "cell_type": "code",
   "execution_count": 54,
   "metadata": {},
   "outputs": [
    {
     "name": "stdout",
     "output_type": "stream",
     "text": [
      "15\n",
      "30\n",
      "45\n",
      "60\n",
      "75\n",
      "90\n"
     ]
    }
   ],
   "source": [
    "#10.A company gives rewards for numbers divisible by both 3 and 5. Write a program to print all numbers between 1 and 100 that qualify.\n",
    "for i in range(1,101):\n",
    "    if(i%3==0 and i%5==0):\n",
    "        print(i)"
   ]
  },
  {
   "cell_type": "code",
   "execution_count": 1,
   "metadata": {},
   "outputs": [
    {
     "name": "stdout",
     "output_type": "stream",
     "text": [
      "7 is a prime number\n"
     ]
    }
   ],
   "source": [
    "#11.A security system checks whether the entered code is prime for extra authentication. Write a program to check if a given number is prime.\n",
    "num = int(input(\"Enter a number: \"))\n",
    "if num > 1:\n",
    "    for i in range(2, num):\n",
    "        if num % i == 0:\n",
    "            print(num, \"is not a prime number\")\n",
    "            break\n",
    "    else:\n",
    "        print(num, \"is a prime number\")\n",
    "else:\n",
    "    print(num, \"is not a prime number\")\n"
   ]
  },
  {
   "cell_type": "code",
   "execution_count": 4,
   "metadata": {},
   "outputs": [
    {
     "name": "stdout",
     "output_type": "stream",
     "text": [
      "[798, 76, 78, 56, 678]\n",
      "Second largest number is: 678\n"
     ]
    }
   ],
   "source": [
    "#12.In a class test, a teacher wants to know the second highest score among students. Write a program to find the second largest number in a list.\n",
    "n = list(map(int,input().split()))\n",
    "print(n)\n",
    "n.sort()   \n",
    "print(\"Second largest number is:\", n[-2])\n"
   ]
  },
  {
   "cell_type": "code",
   "execution_count": 5,
   "metadata": {},
   "outputs": [
    {
     "name": "stdout",
     "output_type": "stream",
     "text": [
      "1 =odd\n",
      "2 =Even\n",
      "3 =odd\n",
      "4 =Even\n",
      "5 =odd\n",
      "6 =Even\n",
      "7 =odd\n",
      "8 =Even\n",
      "9 =odd\n",
      "10 =Even\n",
      "11 =odd\n",
      "12 =Even\n",
      "13 =odd\n",
      "14 =Even\n",
      "15 =odd\n",
      "16 =Even\n",
      "17 =odd\n",
      "18 =Even\n",
      "19 =odd\n",
      "20 =Even\n",
      "21 =odd\n",
      "22 =Even\n",
      "23 =odd\n",
      "24 =Even\n",
      "25 =odd\n",
      "26 =Even\n",
      "27 =odd\n",
      "28 =Even\n",
      "29 =odd\n",
      "30 =Even\n",
      "31 =odd\n",
      "32 =Even\n",
      "33 =odd\n",
      "34 =Even\n",
      "35 =odd\n",
      "36 =Even\n",
      "37 =odd\n",
      "38 =Even\n",
      "39 =odd\n",
      "40 =Even\n",
      "41 =odd\n",
      "42 =Even\n",
      "43 =odd\n",
      "44 =Even\n",
      "45 =odd\n",
      "46 =Even\n",
      "47 =odd\n",
      "48 =Even\n",
      "49 =odd\n",
      "50 =Even\n"
     ]
    }
   ],
   "source": [
    "#13.A fitness app counts only even-numbered steps to calculate “balanced walking.” Write a program to find the sum of even numbers from 1 to 50.\n",
    "for i in range(1,51):\n",
    "    if i%2==0:\n",
    "        print(i,'=Even')\n",
    "    else:\n",
    "        print(i,'=odd')"
   ]
  },
  {
   "cell_type": "code",
   "execution_count": 6,
   "metadata": {},
   "outputs": [
    {
     "name": "stdout",
     "output_type": "stream",
     "text": [
      "Uppercase letters: 2\n",
      "Lowercase letters: 3\n"
     ]
    }
   ],
   "source": [
    "#14.A typing speed test wants to know how many uppercase and lowercase letters a user typed. Write a program to count uppercase and lowercase characters in a string.\n",
    "s=input()\n",
    "uppercase = 0\n",
    "lowercase = 0\n",
    "for c in s:\n",
    "    if c.isupper():\n",
    "        uppercase += 1\n",
    "    elif c.islower():\n",
    "        lowercase += 1\n",
    "\n",
    "print(\"Uppercase letters:\", uppercase)\n",
    "print(\"Lowercase letters:\", lowercase)\n"
   ]
  },
  {
   "cell_type": "code",
   "execution_count": 7,
   "metadata": {},
   "outputs": [
    {
     "name": "stdout",
     "output_type": "stream",
     "text": [
      "Fibonacci sequence:\n",
      "0 1 1 2 3 5 "
     ]
    }
   ],
   "source": [
    "#15.A financial tool simulates Fibonacci-like growth in savings. Write a program to generate the Fibonacci sequence up to n terms.\n",
    "n = int(input(\"Enter number of terms: \"))\n",
    "f1, f2 = 0, 1\n",
    "print(\"Fibonacci sequence:\")\n",
    "print(f1, f2, end=\" \")\n",
    "for i in range(2, n):\n",
    "    f3 = f1 + f2\n",
    "    print(f3, end=\" \")\n",
    "    f1 = f2\n",
    "    f2 = f3\n"
   ]
  },
  {
   "cell_type": "code",
   "execution_count": 1,
   "metadata": {},
   "outputs": [
    {
     "name": "stdout",
     "output_type": "stream",
     "text": [
      "['o', 'p', 's', 't']\n",
      "['o', 'p', 's', 't']\n",
      "The strings are anagrams.\n"
     ]
    }
   ],
   "source": [
    "#16.A word puzzle game checks if two words are anagrams (same letters but shuffled). Write a program to check if two strings are anagrams.\n",
    "str1 = input(\"Enter first string: \")\n",
    "str2 = input(\"Enter second string: \")\n",
    "str1 = str1.replace(\" \", \"\").lower()\n",
    "str2 = str2.replace(\" \", \"\").lower()\n",
    "print(sorted(str1))\n",
    "print(sorted(str2))\n",
    "if sorted(str1) == sorted(str2):\n",
    "    print(\"The strings are anagrams.\")\n",
    "else:\n",
    "    print(\"The strings are not anagrams.\")\n"
   ]
  },
  {
   "cell_type": "code",
   "execution_count": 9,
   "metadata": {},
   "outputs": [
    {
     "name": "stdout",
     "output_type": "stream",
     "text": [
      "6 is a Perfect Number\n"
     ]
    }
   ],
   "source": [
    "#17.A science experiment needs to verify whether a number is perfect (sum of divisors = number). Write a program to check if a number is a perfect number.\n",
    "\n",
    "num = int(input(\"Enter a number: \"))\n",
    "s = 0\n",
    "\n",
    "for i in range(1, num):\n",
    "    if num % i == 0:\n",
    "        s += i\n",
    "\n",
    "if s == num:\n",
    "    print(num, \"is a Perfect Number\")\n",
    "else:\n",
    "    print(num, \"is not a Perfect Number\")\n"
   ]
  },
  {
   "cell_type": "code",
   "execution_count": 10,
   "metadata": {},
   "outputs": [
    {
     "name": "stdout",
     "output_type": "stream",
     "text": [
      "Percentage: 89.0\n",
      "Grade: B\n"
     ]
    }
   ],
   "source": [
    "'''18.A school report system calculates percentage and assigns grades:≥90 → A\n",
    "≥75 → B\n",
    "≥50 → C\n",
    "<50 → Fail'''\n",
    "percentage = float(input(\"Enter your percentage: \"))\n",
    "if percentage >= 90:\n",
    "    grade = \"A\"\n",
    "elif percentage >= 75:\n",
    "    grade = \"B\"\n",
    "elif percentage >= 50:\n",
    "    grade = \"C\"\n",
    "else:\n",
    "    grade = \"Fail\"\n",
    "\n",
    "print(\"Percentage:\", percentage)\n",
    "print(\"Grade:\", grade)\n"
   ]
  },
  {
   "cell_type": "code",
   "execution_count": 11,
   "metadata": {},
   "outputs": [
    {
     "name": "stdout",
     "output_type": "stream",
     "text": [
      "2 3 5 7 11 13 17 19 23 29 31 37 41 43 47 53 59 61 67 71 73 79 83 89 97 "
     ]
    }
   ],
   "source": [
    "#19.A mathematics quiz app generates all prime numbers between 1 and 100. Write a program to print all prime numbers in this range.\n",
    "# Print prime numbers between 1 and 100\n",
    "\n",
    "for num in range(2, 101):      \n",
    "    for i in range(2, num):    \n",
    "        if num % i == 0:\n",
    "            break\n",
    "    else:\n",
    "        print(num, end=\" \")\n"
   ]
  },
  {
   "cell_type": "code",
   "execution_count": null,
   "metadata": {},
   "outputs": [
    {
     "name": "stdout",
     "output_type": "stream",
     "text": [
      "Number of words: 1\n"
     ]
    }
   ],
   "source": [
    "#20.An online editor counts words in an article but doesn’t allow using split(). Write a program to count the number of words in a sentence.\n",
    "\n",
    "sentence = input(\"Enter a sentence: \")\n",
    "\n",
    "count = 0\n",
    "in_word = False\n",
    "\n",
    "for ch in sentence:\n",
    "    if ch != \" \" and not in_word:   \n",
    "        count += 1\n",
    "        in_word = True\n",
    "    elif ch == \" \":                 \n",
    "        in_word = False\n",
    "\n",
    "print(\"Number of words:\", count)\n",
    "\n"
   ]
  },
  {
   "cell_type": "code",
   "execution_count": 13,
   "metadata": {},
   "outputs": [
    {
     "name": "stdout",
     "output_type": "stream",
     "text": [
      "Final Ticket Price: 75.0\n"
     ]
    }
   ],
   "source": [
    "'''21. Movie Ticket DiscountA cinema gives a 20% discount if the customer is a student and 10% discount\n",
    "  if the customer is a senior citizen (age ≥ 60).\n",
    "Write a program that takes ticket price, age, and student status (yes/no) as input and prints the final ticket price.'''\n",
    "price = float(input(\"Enter ticket price: \"))\n",
    "age = int(input(\"Enter age: \"))\n",
    "student = input(\"Are you a student? (yes/no): \").lower()\n",
    "\n",
    "if student == \"yes\":\n",
    "    discount = 0.20  \n",
    "elif age >= 60:\n",
    "    discount = 0.10   \n",
    "else:\n",
    "    discount = 0.0   \n",
    "\n",
    "final_price = price - (price * discount)\n",
    "\n",
    "print(\"Final Ticket Price:\", final_price)\n"
   ]
  },
  {
   "cell_type": "code",
   "execution_count": 16,
   "metadata": {},
   "outputs": [
    {
     "name": "stdout",
     "output_type": "stream",
     "text": [
      "Final Amount Payable: ₹ 150.0\n"
     ]
    }
   ],
   "source": [
    "'''22. Shopping Cart Free Delivery\n",
    "An e-commerce website gives free delivery if the total cart value is more than ₹500. Otherwise, a delivery charge of ₹50 is applied.\n",
    "Write a program that takes the cart total as input and prints the final amount payable.'''\n",
    "cart_total = float(input(\"Enter cart total: \"))\n",
    "\n",
    "if cart_total > 500:\n",
    "    final_amount = cart_total     \n",
    "else:\n",
    "    final_amount = cart_total + 50\n",
    "\n",
    "print(\"Final Amount Payable: ₹\", final_amount)\n"
   ]
  },
  {
   "cell_type": "code",
   "execution_count": 17,
   "metadata": {},
   "outputs": [
    {
     "name": "stdout",
     "output_type": "stream",
     "text": [
      "Grade: B\n"
     ]
    }
   ],
   "source": [
    "'''23. Marks Grading System\n",
    "A college follows this grading system:\n",
    "90–100: A\n",
    "75–89: B\n",
    "50–74: C\n",
    "Below 50: Fail\n",
    "Write a program that takes marks as input and prints the grade.'''\n",
    "marks = int(input(\"Enter marks: \"))\n",
    "if 90 <= marks <= 100:\n",
    "    grade = \"A\"\n",
    "elif 75 <= marks <= 89:\n",
    "    grade = \"B\"\n",
    "elif 50 <= marks <= 74:\n",
    "    grade = \"C\"\n",
    "else:\n",
    "    grade = \"Fail\"\n",
    "print(\"Grade:\", grade)\n"
   ]
  },
  {
   "cell_type": "code",
   "execution_count": 18,
   "metadata": {},
   "outputs": [
    {
     "name": "stdout",
     "output_type": "stream",
     "text": [
      "Tip to be added: ₹ 851.6999999999999\n"
     ]
    }
   ],
   "source": [
    "'''24. Restaurant Tip Calculator\n",
    "A restaurant suggests tips based on the bill:Less than 500 → 5% tip\n",
    "500–1000 → 10% tip\n",
    "More than 1000 → 15% tip\n",
    "Write a program that takes the bill amount and prints the tip to be added.'''\n",
    "bill = float(input(\"Enter bill amount: \"))\n",
    "if bill < 500:\n",
    "    tip = bill * 0.05\n",
    "elif 500 <= bill <= 1000:\n",
    "    tip = bill * 0.10\n",
    "else:\n",
    "    tip = bill * 0.15\n",
    "print(\"Tip to be added: ₹\", tip)\n"
   ]
  },
  {
   "cell_type": "code",
   "execution_count": 19,
   "metadata": {},
   "outputs": [
    {
     "name": "stdout",
     "output_type": "stream",
     "text": [
      "Cheapest option: ₹ 3200\n"
     ]
    }
   ],
   "source": [
    "'''25. Gym Membership Plan\n",
    "A gym charges:₹500 per month ₹2700 for 6 months (discounted)\n",
    "₹5000 for 12 months (discounted)\n",
    "Write a program where the user enters the membership period (months) and the program prints the cheapest option.'''\n",
    "months = int(input(\"Enter months: \"))\n",
    "cost1 = months * 500         \n",
    "cost2 = (months // 6) * 2700 + (months % 6) * 500  \n",
    "cost3 = (months // 12) * 5000 + (months % 12) * 500 \n",
    "\n",
    "cheapest = min(cost1, cost2, cost3)\n",
    "\n",
    "print(\"Cheapest option: ₹\", cheapest)\n"
   ]
  },
  {
   "cell_type": "code",
   "execution_count": null,
   "metadata": {},
   "outputs": [
    {
     "name": "stdout",
     "output_type": "stream",
     "text": [
      "Not eligible for exam\n"
     ]
    }
   ],
   "source": [
    "'''26. Exam Eligibility\n",
    "A student must have at least 75% attendance to sit for the exam.\n",
    "Write a program that takes total classes and classes attended as input and prints whether the student is eligible or not eligible.'''\n",
    "\n",
    "\n",
    "total_classes = int(input(\"Enter total classes: \"))\n",
    "attended = int(input(\"Enter classes attended: \"))\n",
    "\n",
    "attendance = (attended / total_classes) * 100\n",
    "\n",
    "if attendance >= 75:\n",
    "    print(\"Eligible for exam\")\n",
    "else:\n",
    "    print(\"Not eligible for exam\")\n"
   ]
  },
  {
   "cell_type": "code",
   "execution_count": 3,
   "metadata": {},
   "outputs": [
    {
     "name": "stdout",
     "output_type": "stream",
     "text": [
      "Transaction Successful\n"
     ]
    }
   ],
   "source": [
    "'''27. ATM WithdrawalAn ATM only allows withdrawals in multiples of 100.\n",
    "Write a program that takes the withdrawal amount and prints whether the transaction is successful or failed.'''\n",
    "#Answer\n",
    "amount = int(input(\"Enter withdrawal amount: \"))\n",
    "if amount > 0 and amount % 100 == 0:\n",
    "    print(\"Transaction Successful\")\n",
    "else:\n",
    "    print(\"Transaction Failed\")\n"
   ]
  },
  {
   "cell_type": "code",
   "execution_count": 4,
   "metadata": {},
   "outputs": [
    {
     "name": "stdout",
     "output_type": "stream",
     "text": [
      "Nice weather, go out!\n"
     ]
    }
   ],
   "source": [
    "'''28. Weather Suggestion\n",
    "Write a program that takes the temperature as input and gives a suggestion:35 → \"Too hot, stay indoors!\"\n",
    "20-35 → \"Nice weather, go out!\"\n",
    "< 20 → \"It's cold, wear warm clothes!\"'''\n",
    "t=int(input(\"Enter temperature: \"))\n",
    "if t==35:\n",
    "    print(\"Too hot, stay indoors!\") \n",
    "elif t>=20 and t<=35:\n",
    "    print(\"Nice weather, go out!\")\n",
    "elif t<20:\n",
    "    print(\"It's cold, wear warm clothes!\")\n",
    "else:\n",
    "    print(\"enter correct temperature\")"
   ]
  },
  {
   "cell_type": "code",
   "execution_count": 5,
   "metadata": {},
   "outputs": [
    {
     "name": "stdout",
     "output_type": "stream",
     "text": [
      "Late fee fine is:50\n"
     ]
    }
   ],
   "source": [
    "'''29. Library Fine-A library charges a fine for late book returns:1-5 days → ₹10  \n",
    "6-10 days → ₹50\n",
    "10 days → ₹100\n",
    "Write a program that takes the number of late days as input and prints the fine amount.'''\n",
    "l=int(input(\"Enter no.of late days\"))\n",
    "if l==10:\n",
    "    print(\"Late fee fine is:100\")\n",
    "elif l<=5 and l>=1:\n",
    "    print(\"Late fee fine is:10\")\n",
    "elif l<10 and l>=6:\n",
    "    print(\"Late fee fine is:50\")\n",
    "    "
   ]
  },
  {
   "cell_type": "code",
   "execution_count": 6,
   "metadata": {},
   "outputs": [
    {
     "name": "stdout",
     "output_type": "stream",
     "text": [
      "Electricity bill is (₹10 per unit) = 7000\n"
     ]
    }
   ],
   "source": [
    "'''30. Electricity Bill Calculator\n",
    "An electricity board charges:\n",
    "First 100 units → ₹5 per unit\n",
    "Next 100 units (101-200) → ₹7 per unit\n",
    "Above 200 units → ₹10 per unit\n",
    "Write a program that takes units consumed as input and prints the bill amount.'''\n",
    "units=int(input(\"Enter unit consumed:\"))\n",
    "if units==100:\n",
    "    print(\"Electricity bill is (₹5 per unit) =\",5*units)\n",
    "elif units>100 and units<=200:\n",
    "    print(\"Electricity bill is (₹7 per unit) =\",7*units)\n",
    "else:\n",
    "    print(\"Electricity bill is (₹10 per unit) =\",10*units)\n"
   ]
  }
 ],
 "metadata": {
  "kernelspec": {
   "display_name": "Python 3",
   "language": "python",
   "name": "python3"
  },
  "language_info": {
   "codemirror_mode": {
    "name": "ipython",
    "version": 3
   },
   "file_extension": ".py",
   "mimetype": "text/x-python",
   "name": "python",
   "nbconvert_exporter": "python",
   "pygments_lexer": "ipython3",
   "version": "3.11.0"
  }
 },
 "nbformat": 4,
 "nbformat_minor": 2
}
