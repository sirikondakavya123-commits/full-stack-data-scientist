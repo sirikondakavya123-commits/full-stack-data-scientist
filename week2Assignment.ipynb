{
 "cells": [
  {
   "cell_type": "code",
   "execution_count": 3,
   "id": "2c27fe95",
   "metadata": {},
   "outputs": [
    {
     "name": "stdout",
     "output_type": "stream",
     "text": [
      "[0, 1, 1, 2, 3, 5, 8]\n"
     ]
    }
   ],
   "source": [
    "'''1. Fibonacci Generator\n",
    "* Function generates `n` Fibonacci numbers.\n",
    "* Input: `n = 7`\n",
    "* Output: `[0, 1, 1, 2, 3, 5, 8]`\n",
    "'''\n",
    "def fibonacci_gen(n):\n",
    "    fib = []\n",
    "    f1, f2 = 0, 1\n",
    "    for _ in range(n):\n",
    "        fib.append(f1)\n",
    "        f1, f2 = f2, f1 + f2\n",
    "    return fib\n",
    "n = int(input(\"Enter n: \"))\n",
    "print(fibonacci_gen(n))\n"
   ]
  },
  {
   "cell_type": "code",
   "execution_count": 5,
   "id": "aa9fe2a9",
   "metadata": {},
   "outputs": [
    {
     "name": "stdout",
     "output_type": "stream",
     "text": [
      "120\n"
     ]
    }
   ],
   "source": [
    "'''2. Factorial Using Recursion\n",
    "* Compute factorial using recursion.\n",
    "* Input: `5`\n",
    "* Output: `120`\n",
    "'''\n",
    "def fact(n):\n",
    "    if n==0 or n==1:\n",
    "        return 1\n",
    "    return n*fact(n-1)\n",
    "n=int(input())\n",
    "print(fact(n))"
   ]
  },
  {
   "cell_type": "code",
   "execution_count": 8,
   "id": "db2c0d09",
   "metadata": {},
   "outputs": [
    {
     "name": "stdout",
     "output_type": "stream",
     "text": [
      "{'apple': 2, 'banana': 2, 'orange': 1}\n"
     ]
    }
   ],
   "source": [
    "'''3. Unique Words Counter\n",
    "* Return unique words in a sentence.\n",
    "* Input: `\"apple banana apple orange banana\"\n",
    "* Output: `{'apple':2,'banana':2,'orange':1}'''\n",
    "from collections import Counter\n",
    "def unique_word(sentence):\n",
    "    words = sentence.split()   \n",
    "    return dict(Counter(words))  \n",
    "l = \"apple banana apple orange banana\"\n",
    "print(unique_word(l))\n"
   ]
  },
  {
   "cell_type": "code",
   "execution_count": 11,
   "id": "01e2b787",
   "metadata": {},
   "outputs": [
    {
     "name": "stdout",
     "output_type": "stream",
     "text": [
      "Grade: A\n"
     ]
    }
   ],
   "source": [
    "'''4. Grade Calculator\n",
    "* Function takes marks and returns grade.\n",
    "* Input: `[85, 90, 78] \n",
    "* Output: `\"Grade: A\"\n",
    "'''\n",
    "def grade(marks):\n",
    "    avg = sum(marks) / len(marks) \n",
    "    if avg>90:\n",
    "        return \"Grade A+\"  \n",
    "    if avg >80:\n",
    "        return \"Grade: A\"\n",
    "    elif avg >70:\n",
    "        return \"Grade: B+\"\n",
    "    elif avg >60:\n",
    "        return \"Grade: B\"\n",
    "    elif avg >50:\n",
    "        return \"Grade: C\"\n",
    "    else:\n",
    "        return \"Grade: F\"\n",
    "marks = list(map(int,input().split()))\n",
    "print(grade(marks))\n"
   ]
  },
  {
   "cell_type": "code",
   "execution_count": null,
   "id": "f24200ba",
   "metadata": {},
   "outputs": [
    {
     "name": "stdout",
     "output_type": "stream",
     "text": [
      "10\n"
     ]
    }
   ],
   "source": [
    "'''5. Second Largest Number\n",
    "* Return 2nd largest number from a list.\n",
    "* Input: `[10, 5, 20, 8]\n",
    "* Output: `10`'''\n",
    "def second_largest_no(l):\n",
    "    s = sorted(l)        \n",
    "    return s[-2]       \n",
    "l = list(map(int, input(\"Enter numbers: \").split()))\n",
    "print(second_largest_no(l))"
   ]
  },
  {
   "cell_type": "code",
   "execution_count": null,
   "id": "bcf43de4",
   "metadata": {},
   "outputs": [
    {
     "name": "stdout",
     "output_type": "stream",
     "text": [
      "Text files: 2\n",
      "Python files: 2\n"
     ]
    }
   ],
   "source": [
    "'''1. `os` → Count Files by Extension\n",
    "Write a program using `os` to count how many `.txt` and `.py` files are in the current directory.\n",
    "Sample Input (files in folder):\n",
    "[\"notes.txt\", \"app.py\", \"data.csv\", \"report.txt\", \"main.py\"]\n",
    "Sample Output:\n",
    "Text files: 2\n",
    "Python files: 2\n",
    "'''\n",
    "def count_files(files):\n",
    "    txt_count = 0\n",
    "    py_count = 0\n",
    "    for file in files:\n",
    "        if file.endswith(\".txt\"):\n",
    "            txt_count += 1\n",
    "        elif file.endswith(\".py\"):\n",
    "            py_count += 1\n",
    "    print(\"Text files:\", txt_count)\n",
    "    print(\"Python files:\", py_count)\n",
    "files = input(\"Enter file names \").split()\n",
    "count_files(files)\n",
    "\n"
   ]
  },
  {
   "cell_type": "code",
   "execution_count": 4,
   "id": "973c67a5",
   "metadata": {},
   "outputs": [
    {
     "name": "stdout",
     "output_type": "stream",
     "text": [
      "Mean = 87.86\n",
      "Median = 90\n",
      "Variance = 73.81\n"
     ]
    }
   ],
   "source": [
    "'''2. `statistics` → Exam Score Analysis\n",
    "Use `statistics` to calculate the mean, median, and variance of student exam scores.\n",
    "Sample Input:\n",
    "Scores = [75, 80, 90, 100, 85, 90, 95]\n",
    "Sample Output:\n",
    "Mean = 88.57\n",
    "Median = 90\n",
    "Variance = 71.43\n",
    "'''\n",
    "import statistics\n",
    "scores = list(map(int, input(\"Enter scores\").split()))\n",
    "mean_score = statistics.mean(scores)\n",
    "median_score = statistics.median(scores)\n",
    "variance_score = statistics.variance(scores)\n",
    "print(f\"Mean = {mean_score:.2f}\")\n",
    "print(f\"Median = {median_score}\")\n",
    "print(f\"Variance = {variance_score:.2f}\")\n"
   ]
  },
  {
   "cell_type": "code",
   "execution_count": 8,
   "id": "16b6ef86",
   "metadata": {},
   "outputs": [
    {
     "name": "stdout",
     "output_type": "stream",
     "text": [
      "Roots are: 1.0 and 2.0\n"
     ]
    }
   ],
   "source": [
    "'''3. `math` → Quadratic Equation Solver\n",
    "Use the `math` module to solve quadratic equations of the form `ax² + bx + c = 0`.\n",
    "Sample Input:\n",
    "a = 1, b = -3, c = 2\n",
    "Sample Output:\n",
    "Roots are: 1.0 and 2.0\n",
    "'''\n",
    "import math\n",
    "a = float(input(\"Enter coefficient a: \"))\n",
    "b = float(input(\"Enter coefficient b: \"))\n",
    "c = float(input(\"Enter coefficient c: \"))\n",
    "d = b**2 - 4*a*c\n",
    "if d > 0:\n",
    "    root1 = (-b + math.sqrt(d)) / (2*a)\n",
    "    root2 = (-b - math.sqrt(d)) / (2*a)\n",
    "    roots = sorted([root1, root2])\n",
    "    print(f\"Roots are: {roots[0]} and {roots[1]}\")\n",
    "elif d == 0:\n",
    "    root = -b / (2*a)\n",
    "    print(f\"Root is: {root}\")\n",
    "else:\n",
    "    real_part = -b / (2*a)\n",
    "    imaginary_part = math.sqrt(-d) / (2*a)\n",
    "    print(f\"Roots are complex: {real_part}+{imaginary_part}i and {real_part}-{imaginary_part}i\")\n",
    "\n"
   ]
  },
  {
   "cell_type": "code",
   "execution_count": 9,
   "id": "30c40444",
   "metadata": {},
   "outputs": [
    {
     "name": "stdout",
     "output_type": "stream",
     "text": [
      "You chose Rock , Computer chose Scissors\n",
      "You Win!\n"
     ]
    }
   ],
   "source": [
    "'''4. `random` → Rock Paper Scissors Game\n",
    "Use `random.choice()` to let the computer play Rock-Paper-Scissors against the user.\n",
    "Sample Input:\n",
    "User: Rock\n",
    "Computer (random): Scissors\n",
    "Sample Output:\n",
    "You chose Rock, Computer chose Scissors\n",
    "You Win!\n",
    "'''\n",
    "import random\n",
    "options = [\"Rock\", \"Paper\", \"Scissors\"]\n",
    "user_choice = input(\"Enter your choice (Rock, Paper, Scissors): \").capitalize()\n",
    "computer_choice = random.choice(options)\n",
    "print(\"You chose\", user_choice, \", Computer chose\", computer_choice)\n",
    "if user_choice == computer_choice:\n",
    "    print(\"It's a Tie!\")\n",
    "elif (user_choice == \"Rock\" and computer_choice == \"Scissors\") or \\\n",
    "     (user_choice == \"Paper\" and computer_choice == \"Rock\") or \\\n",
    "     (user_choice == \"Scissors\" and computer_choice == \"Paper\"):\n",
    "    print(\"You Win!\")\n",
    "else:\n",
    "    print(\"Computer Wins!\")\n",
    "\n"
   ]
  },
  {
   "cell_type": "code",
   "execution_count": 15,
   "id": "2ec72e34",
   "metadata": {},
   "outputs": [
    {
     "name": "stdout",
     "output_type": "stream",
     "text": [
      "Sum = 30\n"
     ]
    }
   ],
   "source": [
    "'''5. `sys` → Sum from Command Line\n",
    "Write a program using `sys.argv` to take three numbers from the command line and print their sum.\n",
    "Sample Input (command line):\n",
    "python add.py 5 10 15\n",
    "Sample Output:\n",
    "Sum = 30\n",
    "'''\n",
    "import sys\n",
    "sys.argv = [\"add.py\", \"5\", \"10\", \"15\"]\n",
    "if len(sys.argv) != 4:\n",
    "    print(\"Usage: python add.py num1 num2 num3\")\n",
    "else:\n",
    "    num1 = int(sys.argv[1])\n",
    "    num2 = int(sys.argv[2])\n",
    "    num3 = int(sys.argv[3])\n",
    "    total = num1 + num2 + num3\n",
    "    print(\"Sum =\", total)\n",
    "\n"
   ]
  },
  {
   "cell_type": "code",
   "execution_count": 16,
   "id": "fdf78219",
   "metadata": {},
   "outputs": [
    {
     "name": "stdout",
     "output_type": "stream",
     "text": [
      "You borrowed Python 101\n",
      "You returned Python 101\n",
      "Available books: {'Python 101': 3, 'Data Science': 2}\n"
     ]
    }
   ],
   "source": [
    "'''1. Library System\n",
    "Create a `Library` class with:\n",
    "*Attributes: `books` (dict with book title → copies available)\n",
    "*Methods:\n",
    "* `borrow(title)` → decreases stock if available\n",
    "* `return_book(title)` → increases stock\n",
    "* `show_books()` → prints all available books\n",
    "Sample Input:\n",
    "lib = Library({\"Python 101\": 3, \"Data Science\": 2})\n",
    "print(lib.borrow(\"Python 101\"))\n",
    "print(lib.return_book(\"Python 101\"))\n",
    "lib.show_books()\n",
    "Sample Output:\n",
    "You borrowed Python 101 \n",
    "You returned Python 101\n",
    "Available books: {'Python 101': 3, 'Data Science': 2}'''\n",
    "class Library:\n",
    "    def __init__(self, books):\n",
    "        self.books = books\n",
    "    def borrow(self, title):\n",
    "        if title in self.books and self.books[title] > 0:\n",
    "            self.books[title] -= 1\n",
    "            return \"You borrowed \" + title\n",
    "        elif title in self.books:\n",
    "            return title + \" is currently unavailable\"\n",
    "        else:\n",
    "            return title + \" is not in the library\"\n",
    "    def return_book(self, title):\n",
    "        if title in self.books:\n",
    "            self.books[title] += 1\n",
    "        else:\n",
    "            self.books[title] = 1  \n",
    "        return \"You returned \" + title\n",
    "    def show_books(self):\n",
    "        print(\"Available books:\", self.books)\n",
    "lib = Library({\"Python 101\": 3, \"Data Science\": 2})\n",
    "print(lib.borrow(\"Python 101\"))   \n",
    "print(lib.return_book(\"Python 101\"))  \n",
    "lib.show_books()                   \n"
   ]
  },
  {
   "cell_type": "code",
   "execution_count": 17,
   "id": "26c22716",
   "metadata": {},
   "outputs": [
    {
     "name": "stdout",
     "output_type": "stream",
     "text": [
      "Access Granted\n",
      "Deposited 200\n",
      "Withdrew 100\n",
      "Balance: 600\n"
     ]
    }
   ],
   "source": [
    "'''2. ATM Machine with PIN\n",
    "Create an `ATM` class with:\n",
    "*Attributes: `balance`, `pin`, `is_authenticated`\n",
    "*Methods:\n",
    "* `login(pin)` → checks PIN\n",
    "* `check_balance()`\n",
    "* `deposit(amount)`\n",
    "* `withdraw(amount)`\n",
    "Sample Input:\n",
    "atm = ATM(1234, 500)\n",
    "print(atm.login(1234))\n",
    "print(atm.deposit(200))\n",
    "print(atm.withdraw(100))\n",
    "print(atm.check_balance())\n",
    "Sample Output:\n",
    "Access Granted\n",
    "Deposited 200\n",
    "Withdrew 100\n",
    "Balance: 600\n",
    "'''\n",
    "class ATM:\n",
    "    def __init__(self, pin, balance=0):\n",
    "        self.pin = pin\n",
    "        self.balance = balance\n",
    "        self.is_authenticated = False\n",
    "\n",
    "    def login(self, entered_pin):\n",
    "        if entered_pin == self.pin:\n",
    "            self.is_authenticated = True\n",
    "            return \"Access Granted\"\n",
    "        else:\n",
    "            return \"Access Denied\"\n",
    "\n",
    "    def check_balance(self):\n",
    "        if self.is_authenticated:\n",
    "            return \"Balance: \" + str(self.balance)\n",
    "        else:\n",
    "            return \"Please login first\"\n",
    "\n",
    "    def deposit(self, amount):\n",
    "        if self.is_authenticated:\n",
    "            self.balance += amount\n",
    "            return \"Deposited \" + str(amount)\n",
    "        else:\n",
    "            return \"Please login first\"\n",
    "\n",
    "    def withdraw(self, amount):\n",
    "        if self.is_authenticated:\n",
    "            if amount <= self.balance:\n",
    "                self.balance -= amount\n",
    "                return \"Withdrew \" + str(amount)\n",
    "            else:\n",
    "                return \"Insufficient balance\"\n",
    "        else:\n",
    "            return \"Please login first\"\n",
    "atm = ATM(1234, 500)\n",
    "print(atm.login(1234))        \n",
    "print(atm.deposit(200))       \n",
    "print(atm.withdraw(100))      \n",
    "print(atm.check_balance())    \n"
   ]
  },
  {
   "cell_type": "code",
   "execution_count": 18,
   "id": "a3a3aa4f",
   "metadata": {},
   "outputs": [
    {
     "name": "stdout",
     "output_type": "stream",
     "text": [
      "Dr. Smith is teaching Python\n",
      "Alice enrolled in Python\n",
      "Dr. Smith assigned: Project 1\n",
      "Alice submitted: Project 1\n"
     ]
    }
   ],
   "source": [
    "'''3. University System\n",
    "Create `Professor` and `Student` classes.\n",
    "*Professor Attributes: `name`, `subject`\n",
    "*Professor Methods: `teach(course)`, `give_assignment(task)`\n",
    "*Student Attributes: `name`, `courses`, `assignments`\n",
    "*Student Methods: `enroll(course)`, `submit_assignment(task)`\n",
    "Sample Input:\n",
    "prof = Professor(\"Dr. Smith\", \"Computer Science\")\n",
    "stud = Student(\"Alice\")\n",
    "print(prof.teach(\"Python\"))\n",
    "print(stud.enroll(\"Python\"))\n",
    "print(prof.give_assignment(\"Project 1\"))\n",
    "print(stud.submit_assignment(\"Project 1\"))\n",
    "Sample Output:\n",
    "Dr. Smith is teaching Python\n",
    "Alice enrolled in Python\n",
    "Dr. Smith assigned: Project 1\n",
    "Alice submitted: Project 1'''\n",
    "class Professor:\n",
    "    def __init__(self, name, subject):\n",
    "        self.name = name\n",
    "        self.subject = subject\n",
    "\n",
    "    def teach(self, course):\n",
    "        return self.name + \" is teaching \" + course\n",
    "\n",
    "    def give_assignment(self, task):\n",
    "        return self.name + \" assigned: \" + task\n",
    "\n",
    "\n",
    "class Student:\n",
    "    def __init__(self, name):\n",
    "        self.name = name\n",
    "        self.courses = []\n",
    "        self.assignments = []\n",
    "\n",
    "    def enroll(self, course):\n",
    "        self.courses.append(course)\n",
    "        return self.name + \" enrolled in \" + course\n",
    "\n",
    "    def submit_assignment(self, task):\n",
    "        self.assignments.append(task)\n",
    "        return self.name + \" submitted: \" + task\n",
    "prof = Professor(\"Dr. Smith\", \"Computer Science\")\n",
    "stud = Student(\"Alice\")\n",
    "\n",
    "print(prof.teach(\"Python\"))            \n",
    "print(stud.enroll(\"Python\"))           \n",
    "print(prof.give_assignment(\"Project 1\"))  \n",
    "print(stud.submit_assignment(\"Project 1\")) \n"
   ]
  },
  {
   "cell_type": "code",
   "execution_count": 19,
   "id": "b1f39c48",
   "metadata": {},
   "outputs": [
    {
     "name": "stdout",
     "output_type": "stream",
     "text": [
      "Booked 2 tickets for Avatar\n",
      "Cancelled 1 ticket for Avatar\n",
      "Movies: {'Avatar': 9, 'Batman': 5}\n"
     ]
    }
   ],
   "source": [
    "'''4. Movie Ticket Booking\n",
    "Create a `Cinema` class with:\n",
    "*Attributes: `movies` (dict → movie: seats available)\n",
    "*Methods:\n",
    "* `book(movie, seats)` → reduces seat count\n",
    "* `cancel(movie, seats)` → adds back seats\n",
    "* `show_movies()` → shows available seats\n",
    "Sample Input:\n",
    "cinema = Cinema({\"Avatar\": 10, \"Batman\": 5})\n",
    "print(cinema.book(\"Avatar\", 2))\n",
    "print(cinema.cancel(\"Avatar\", 1))\n",
    "cinema.show_movies()\n",
    "Sample Output:\n",
    "Booked 2 tickets for Avatar\n",
    "Cancelled 1 ticket for Avatar\n",
    "Movies: {'Avatar': 9, 'Batman': 5}'''\n",
    "class Cinema:\n",
    "    def __init__(self, movies):\n",
    "        self.movies = movies\n",
    "    def book(self, movie, seats):\n",
    "        if movie in self.movies:\n",
    "            if self.movies[movie] >= seats:\n",
    "                self.movies[movie] -= seats\n",
    "                return \"Booked \" + str(seats) + \" tickets for \" + movie\n",
    "            else:\n",
    "                return \"Not enough seats available for \" + movie\n",
    "        else:\n",
    "            return movie + \" is not available\"\n",
    "\n",
    "    def cancel(self, movie, seats):\n",
    "        if movie in self.movies:\n",
    "            self.movies[movie] += seats\n",
    "            return \"Cancelled \" + str(seats) + \" ticket for \" + movie\n",
    "        else:\n",
    "            return movie + \" is not available\"\n",
    "\n",
    "    def show_movies(self):\n",
    "        print(\"Movies:\", self.movies)\n",
    "cinema = Cinema({\"Avatar\": 10, \"Batman\": 5})\n",
    "print(cinema.book(\"Avatar\", 2))   \n",
    "print(cinema.cancel(\"Avatar\", 1)) \n",
    "cinema.show_movies()              \n"
   ]
  },
  {
   "cell_type": "code",
   "execution_count": null,
   "id": "42598118",
   "metadata": {},
   "outputs": [],
   "source": [
    "''' 5. Restaurant Menu\n",
    "Create a `Menu` class with:\n",
    "*Attributes: `items` (dict → item: price)\n",
    "*Methods:\n",
    "* `add_item(name, price)`\n",
    "* `remove_item(name)`\n",
    "* `update_price(name, new_price)`\n",
    "* `show_menu()`\n",
    "Sample Input:\n",
    "menu = Menu()\n",
    "print(menu.add_item(\"Burger\", 100))\n",
    "print(menu.add_item(\"Pizza\", 200))\n",
    "print(menu.update_price(\"Pizza\", 250))\n",
    "print(menu.remove_item(\"Burger\"))\n",
    "menu.show_menu()\n",
    "Sample Output: \n",
    "Burger added\n",
    "Pizza added\n",
    "Pizza price updated to 250\n",
    "Burger removed\n",
    "Menu: {'Pizza': 250}'''\n",
    "class Menu:\n",
    "    def __init__(self):\n",
    "        self.items = {}\n",
    "    def add_item(self, name, price):\n",
    "        self.items[name] = price\n",
    "        return name + \" added\"\n",
    "\n",
    "    def remove_item(self, name):\n",
    "        if name in self.items:\n",
    "            del self.items[name]\n",
    "            return name + \" removed\"\n",
    "        else:\n",
    "            return name + \" not found in menu\"\n",
    "\n",
    "    def update_price(self, name, new_price):\n",
    "        if name in self.items:\n",
    "            self.items[name] = new_price\n",
    "            return name + \" price updated to \" + str(new_price)\n",
    "        else:\n",
    "            return name + \" not found in menu\"\n",
    "\n",
    "    def show_menu(self):\n",
    "        print(\"Menu:\", self.items)\n",
    "menu = Menu()\n",
    "print(menu.add_item(\"Burger\", 100))       \n",
    "print(menu.add_item(\"Pizza\", 200))        \n",
    "print(menu.update_price(\"Pizza\", 250))    \n",
    "print(menu.remove_item(\"Burger\"))         \n",
    "menu.show_menu()\n"
   ]
  }
 ],
 "metadata": {
  "kernelspec": {
   "display_name": "Python 3",
   "language": "python",
   "name": "python3"
  },
  "language_info": {
   "codemirror_mode": {
    "name": "ipython",
    "version": 3
   },
   "file_extension": ".py",
   "mimetype": "text/x-python",
   "name": "python",
   "nbconvert_exporter": "python",
   "pygments_lexer": "ipython3",
   "version": "3.11.0"
  }
 },
 "nbformat": 4,
 "nbformat_minor": 5
}
