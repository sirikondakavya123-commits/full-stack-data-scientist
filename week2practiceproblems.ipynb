{
 "cells": [
  {
   "cell_type": "code",
   "execution_count": 11,
   "id": "668d9c97",
   "metadata": {},
   "outputs": [
    {
     "name": "stdout",
     "output_type": "stream",
     "text": [
      "['hi', 'hello']\n",
      "Total number of words: 2\n"
     ]
    }
   ],
   "source": [
    "'''1. Problem: Given a text file, count the total number of words.'''\n",
    "with open(\"text1.txt\", \"r\") as f:\n",
    "    text = f.read()\n",
    "words = text.split()\n",
    "print(words)\n",
    "w = len(words)\n",
    "print(\"Total number of words:\", w)\n"
   ]
  },
  {
   "cell_type": "code",
   "execution_count": 23,
   "id": "212ef608",
   "metadata": {},
   "outputs": [
    {
     "name": "stdout",
     "output_type": "stream",
     "text": [
      "Strong password\n"
     ]
    }
   ],
   "source": [
    "'''2. Problem: Write a program to check if a password is strong\n",
    " (at least 8 characters, contains uppercase, lowercase, digit, and special char).'''\n",
    "import string\n",
    "password=input(\"Enter password: \")\n",
    "has_upper=any(c.isupper() for c in password)\n",
    "has_lower=any(c.islower() for c in password)\n",
    "has_digit=any(c.isdigit() for c in password)\n",
    "has_len=len(password)>=8\n",
    "has_special=any(c in string.punctuation for c in password)\n",
    "if all([has_upper,has_lower,has_digit,has_len,has_special]):\n",
    "    print(\"Strong password\")\n",
    "else:\n",
    "    print(\"Weak password\")"
   ]
  },
  {
   "cell_type": "code",
   "execution_count": 32,
   "id": "890d923e",
   "metadata": {},
   "outputs": [
    {
     "name": "stdout",
     "output_type": "stream",
     "text": [
      "a= 45.0 b= 65.0 op= -\n",
      "Subtraction = -20.0\n"
     ]
    }
   ],
   "source": [
    "'''3. Problem: Implement a calculator with +, -, *, / operations.'''\n",
    "num1 = float(input(\"Enter first number: \"))\n",
    "num2 = float(input(\"Enter second number: \"))\n",
    "op = input(\"Enter operator (+, -, *, /): \")\n",
    "print(\"a=\",num1,\"b=\",num2,\"op=\",op)\n",
    "match op:\n",
    "    case \"+\":\n",
    "        print(\"Addition =\", num1 + num2)\n",
    "    case \"-\":\n",
    "        print(\"Subtraction =\", num1 - num2)\n",
    "    case \"*\":\n",
    "        print(\"multiplication =\", num1 * num2)\n",
    "    case \"/\":\n",
    "        if num2 != 0:\n",
    "            print(\"Division =\", num1 / num2)\n",
    "        else:\n",
    "            print(\"Error: Division by zero not allowed\")\n",
    "    case _:\n",
    "        print(\"Invalid operator!\")\n"
   ]
  },
  {
   "cell_type": "code",
   "execution_count": 34,
   "id": "65f7132e",
   "metadata": {},
   "outputs": [
    {
     "name": "stdout",
     "output_type": "stream",
     "text": [
      "a\n",
      "g\n"
     ]
    }
   ],
   "source": [
    "'''4. Problem: Given a list of student names, find duplicates.'''\n",
    "class Duplicates:\n",
    "    def names(self,l):\n",
    "        a=[]\n",
    "        for s in l:\n",
    "            if s in a:\n",
    "                print(s)\n",
    "            else:\n",
    "                a.append(s)\n",
    "l=list(map(str,input().split()))\n",
    "s=Duplicates()\n",
    "s.names(l)"
   ]
  },
  {
   "cell_type": "code",
   "execution_count": 38,
   "id": "7dc2a7e1",
   "metadata": {},
   "outputs": [
    {
     "name": "stdout",
     "output_type": "stream",
     "text": [
      "1->Celsius 2->Fahrenheit: \n",
      "23.0°C = 73.40°F\n"
     ]
    }
   ],
   "source": [
    "'''5. Problem: Convert between Celsius and Fahrenheit.'''\n",
    "print(\"1->Celsius 2->Fahrenheit: \")\n",
    "choice = int(input(\"Enter choice (1||2): \"))\n",
    "if choice == 1:\n",
    "    c = float(input(\"Enter temperature in Celsius: \"))\n",
    "    f = (c * 9/5) + 32\n",
    "    print(f\"{c}°C = {f:.2f}°F\")\n",
    "elif choice == 2:\n",
    "    f = float(input(\"Enter temperature in Fahrenheit: \"))\n",
    "    c = (f - 32) * 5/9\n",
    "    print(f\"{f}°F = {c:.2f}°C\")\n",
    "else:\n",
    "    print(\"Invalid choice!\")\n"
   ]
  },
  {
   "cell_type": "code",
   "execution_count": 2,
   "id": "3c385546",
   "metadata": {},
   "outputs": [
    {
     "name": "stdout",
     "output_type": "stream",
     "text": [
      "[23, 67, 3, 88, 9, 34]\n",
      "67\n"
     ]
    }
   ],
   "source": [
    "'''6. Problem: Find the largest number from a list of integers.'''\n",
    "l=list(map(int,input().split()))\n",
    "print(l)\n",
    "l.sort()\n",
    "print(l[-2])"
   ]
  },
  {
   "cell_type": "code",
   "execution_count": 4,
   "id": "1d6edb5f",
   "metadata": {},
   "outputs": [
    {
     "name": "stdout",
     "output_type": "stream",
     "text": [
      "Simple Interest = 100.0\n"
     ]
    }
   ],
   "source": [
    "'''7. Problem: Calculate Simple Interest.'''\n",
    "p = int(input(\"Enter Principal: \"))\n",
    "t = int(input(\"Enter Time (in years): \"))\n",
    "r = int(input(\"Enter Rate of Interest: \"))\n",
    "si = (p * t * r) / 100\n",
    "print(\"Simple Interest =\", si)\n"
   ]
  },
  {
   "cell_type": "code",
   "execution_count": 17,
   "id": "baa0f26c",
   "metadata": {},
   "outputs": [
    {
     "name": "stdout",
     "output_type": "stream",
     "text": [
      "['teju ']\n"
     ]
    }
   ],
   "source": [
    "#8. Problem: Given a dictionary of student names and attendance %, find defaulters (<75%).\n",
    "n=int(input(\"Enter no.of students \"))\n",
    "students = {}\n",
    "l=[]\n",
    "for i in range(n):\n",
    "    key=input(\"Enter student name: \")\n",
    "    value=int(input(\"enter attendance per: \"))\n",
    "    students[key]=value\n",
    "    if value<75:\n",
    "        l.append(key)\n",
    "print(l)\n"
   ]
  },
  {
   "cell_type": "code",
   "execution_count": 8,
   "id": "879da5b3",
   "metadata": {},
   "outputs": [
    {
     "name": "stdout",
     "output_type": "stream",
     "text": [
      "10\n"
     ]
    }
   ],
   "source": [
    "#9. Problem: Input: 1234 → Output: 10\n",
    "n=int(input())\n",
    "s=0\n",
    "while n>0:\n",
    "    d=n%10\n",
    "    s=s+d\n",
    "    n=n//10\n",
    "print(s)\n"
   ]
  },
  {
   "cell_type": "code",
   "execution_count": 22,
   "id": "3de5c046",
   "metadata": {},
   "outputs": [
    {
     "name": "stdout",
     "output_type": "stream",
     "text": [
      "Prime\n"
     ]
    }
   ],
   "source": [
    "#10. Problem: Write a function to check if a number is prime.\n",
    "def is_prime(n):\n",
    "    if n <= 1:\n",
    "        return False\n",
    "    for i in range(2, n):\n",
    "        if n % i == 0:\n",
    "            return False\n",
    "    return True\n",
    "n = int(input(\"Enter number: \"))\n",
    "if is_prime(n):\n",
    "    print(\"Prime\")\n",
    "else:\n",
    "    print(\"Not Prime\")\n"
   ]
  },
  {
   "cell_type": "code",
   "execution_count": 19,
   "id": "ad36286e",
   "metadata": {},
   "outputs": [
    {
     "name": "stdout",
     "output_type": "stream",
     "text": [
      "[34, 7, 8, 4, 99, 34, 1, 0, 67, 34, 0]\n",
      "smallest no : 0\n",
      "largest no : 99\n"
     ]
    }
   ],
   "source": [
    "#11. Problem: Find smallest and largest numbers from a list.\n",
    "l=list(map(int,input().split()))\n",
    "print(l)\n",
    "print(\"smallest no :\",min(l))\n",
    "print(\"largest no :\",max(l))"
   ]
  },
  {
   "cell_type": "code",
   "execution_count": 36,
   "id": "49f4c3ec",
   "metadata": {},
   "outputs": [
    {
     "name": "stdout",
     "output_type": "stream",
     "text": [
      "total bill : 96\n"
     ]
    }
   ],
   "source": [
    "#12. Problem: Given items with prices in a dictionary, calculate total bill.\n",
    "n=int(input(\"Enter no.of items: \"))\n",
    "items = {}\n",
    "s=0\n",
    "for i in range(n):\n",
    "    key=input(\"Enter item: \")\n",
    "    value=int(input(\"enter price: \"))\n",
    "    items[key]=value\n",
    "    s+=value\n",
    "print(\"total bill :\",s)"
   ]
  },
  {
   "cell_type": "code",
   "execution_count": 23,
   "id": "62ed6fd8",
   "metadata": {},
   "outputs": [
    {
     "name": "stdout",
     "output_type": "stream",
     "text": [
      "largest number : 77\n"
     ]
    }
   ],
   "source": [
    "#13. Problem: Input 3 numbers, print the largest.\n",
    "a,b,c=map(int,input(\"Enter 3 numbers\").split())\n",
    "p=max(a,b)\n",
    "q=max(p,c)\n",
    "print(\"largest number :\",q)"
   ]
  },
  {
   "cell_type": "code",
   "execution_count": 25,
   "id": "e4968e2c",
   "metadata": {},
   "outputs": [
    {
     "name": "stdout",
     "output_type": "stream",
     "text": [
      "Python is awesome! It is easy to learn and fun to use.\n",
      "Counter({' ': 11, 's': 5, 'e': 5, 't': 4, 'o': 4, 'n': 4, 'a': 4, 'y': 2, 'i': 2, 'u': 2, 'P': 1, 'h': 1, 'w': 1, 'm': 1, '!': 1, 'I': 1, 'l': 1, 'r': 1, 'd': 1, 'f': 1, '.': 1})\n"
     ]
    }
   ],
   "source": [
    "#14. Problem: Count how many times each character appears in a string.\n",
    "from collections import Counter\n",
    "s=input()\n",
    "print(s)\n",
    "print(Counter(s))"
   ]
  },
  {
   "cell_type": "code",
   "execution_count": 28,
   "id": "df0ca7aa",
   "metadata": {},
   "outputs": [
    {
     "name": "stdout",
     "output_type": "stream",
     "text": [
      "units consumed : 236\n",
      "Total Electricity Bill = ₹ 1560\n"
     ]
    }
   ],
   "source": [
    "'''15. Problem: Calculate electricity bill:\n",
    "First 100 units → ₹5/unit\n",
    "Next 100 units → ₹7/unit\n",
    "Above 200 units → ₹10/unit'''\n",
    "units = int(input(\"Enter total electricity units consumed: \"))\n",
    "print(\"units consumed :\",units)\n",
    "if units <= 100:\n",
    "    bill = units * 5\n",
    "elif units <= 200:\n",
    "    bill = 100 * 5 + (units - 100) * 7\n",
    "else:\n",
    "    bill = 100 * 5 + 100 * 7 + (units - 200) * 10\n",
    "\n",
    "print(\"Total Electricity Bill = ₹\", bill)\n"
   ]
  },
  {
   "cell_type": "code",
   "execution_count": 31,
   "id": "6d13bfbc",
   "metadata": {},
   "outputs": [
    {
     "name": "stdout",
     "output_type": "stream",
     "text": [
      "['kavya', 'rutwika', 'teju']\n"
     ]
    }
   ],
   "source": [
    "#16. Problem: Sort a list of names in ascending order.\n",
    "l=list(map(str,input().split()))\n",
    "l.sort()\n",
    "print(l)"
   ]
  },
  {
   "cell_type": "code",
   "execution_count": 32,
   "id": "05f11723",
   "metadata": {},
   "outputs": [
    {
     "name": "stdout",
     "output_type": "stream",
     "text": [
      "4321\n"
     ]
    }
   ],
   "source": [
    "#17. Problem: Input: 1234 → Output: 4321\n",
    "n=int(input(\"Enter number :\"))\n",
    "s=0\n",
    "while n>0:\n",
    "    d=n%10\n",
    "    s=s*10+d\n",
    "    n=n//10\n",
    "print(s)"
   ]
  },
  {
   "cell_type": "code",
   "execution_count": 35,
   "id": "140a9991",
   "metadata": {},
   "outputs": [
    {
     "name": "stdout",
     "output_type": "stream",
     "text": [
      "negative count : 3\n",
      "positive count : 3\n",
      "zero count : 2\n"
     ]
    }
   ],
   "source": [
    "#18. Problem: Given a list, count positive, negative, and zero numbers.\n",
    "l=list(map(int,input().split()))\n",
    "p=0\n",
    "n=0\n",
    "z=0\n",
    "for i in l:\n",
    "    if i==0:\n",
    "        z+=1\n",
    "    elif i<0:\n",
    "        n+=1\n",
    "    else:\n",
    "        p+=1\n",
    "print(\"negative count :\",n)\n",
    "print(\"positive count :\",p)\n",
    "print(\"zero count :\",z)"
   ]
  },
  {
   "cell_type": "code",
   "execution_count": 39,
   "id": "fba58c1a",
   "metadata": {},
   "outputs": [
    {
     "name": "stdout",
     "output_type": "stream",
     "text": [
      "Incorrect PIN. You have 2 attempts left.\n",
      "Incorrect PIN. You have 1 attempts left.\n",
      "Incorrect PIN. No attempts left. Access denied \n"
     ]
    }
   ],
   "source": [
    "#19. Problem: User has 3 attempts to enter correct PIN.\n",
    "correct_pin = \"1234\" \n",
    "attempts = 3\n",
    "while attempts > 0:\n",
    "    pin = input(\"Enter your PIN: \")\n",
    "    if pin == correct_pin:\n",
    "        print(\"PIN accepted. Access granted\")\n",
    "        break\n",
    "    else:\n",
    "        attempts -= 1\n",
    "        if attempts > 0:\n",
    "            print(\"Incorrect PIN. You have\", attempts, \"attempts left.\")\n",
    "        else:\n",
    "            print(\"Incorrect PIN. No attempts left. Access denied \")\n"
   ]
  },
  {
   "cell_type": "code",
   "execution_count": 41,
   "id": "90c56828",
   "metadata": {},
   "outputs": [
    {
     "name": "stdout",
     "output_type": "stream",
     "text": [
      "Division by zero is not allowed\n"
     ]
    }
   ],
   "source": [
    "'''20. Problem: Write a program that asks for two numbers and divides them.\n",
    " Handle division by zero.\n",
    "'''\n",
    "a, b = map(int,input(\"Enter two numbers: \").split())\n",
    "try:\n",
    "    c = a / b\n",
    "    print(\"Result =\", c)\n",
    "except ZeroDivisionError:\n",
    "    print(\"Division by zero is not allowed\")\n"
   ]
  },
  {
   "cell_type": "markdown",
   "id": "a6d386bb",
   "metadata": {},
   "source": []
  },
  {
   "cell_type": "code",
   "execution_count": null,
   "id": "bc0cf5e1",
   "metadata": {},
   "outputs": [],
   "source": []
  }
 ],
 "metadata": {
  "kernelspec": {
   "display_name": "Python 3",
   "language": "python",
   "name": "python3"
  },
  "language_info": {
   "codemirror_mode": {
    "name": "ipython",
    "version": 3
   },
   "file_extension": ".py",
   "mimetype": "text/x-python",
   "name": "python",
   "nbconvert_exporter": "python",
   "pygments_lexer": "ipython3",
   "version": "3.11.0"
  }
 },
 "nbformat": 4,
 "nbformat_minor": 5
}
