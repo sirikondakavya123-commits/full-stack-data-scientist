{
 "cells": [
  {
   "cell_type": "code",
   "execution_count": 6,
   "id": "c5d2af86",
   "metadata": {},
   "outputs": [
    {
     "name": "stdout",
     "output_type": "stream",
     "text": [
      "Balance: 120\n"
     ]
    }
   ],
   "source": [
    "'''1. Bank Account Class\n",
    "Attributes:\n",
    "* `balance` → stores the current money in the account\n",
    "* `owner` (optional) → name of account holder\n",
    "Methods:\n",
    "* `deposit(amount)` → adds money to balance\n",
    "* `withdraw(amount)` → subtracts money if enough funds\n",
    "* `get_balance()` → returns balance\n",
    "Example:\n",
    "```python\n",
    "acc = BankAccount(100)   # initial balance = 100\n",
    "acc.deposit(50)          # balance = 150\n",
    "acc.withdraw(30)         # balance = 120\n",
    "print(acc.get_balance())\n",
    "```\n",
    "Output:\n",
    "```\n",
    "Balance: 120'''\n",
    "class BankAccount:\n",
    "    def __init__(self, balance=0, owner=None):\n",
    "        self.balance = balance\n",
    "        self.owner = owner\n",
    "    def deposit(self, amount):\n",
    "        if amount > 0:\n",
    "            self.balance += amount\n",
    "    def withdraw(self, amount):\n",
    "        if amount > self.balance:\n",
    "            print(\"Insufficient funds.\")\n",
    "        else:\n",
    "            self.balance -= amount\n",
    "\n",
    "    def get_balance(self):\n",
    "        return f\"Balance: {self.balance}\"\n",
    "balance=int(input())\n",
    "acc = BankAccount(balance)    \n",
    "acc.deposit(50)             \n",
    "acc.withdraw(30)           \n",
    "print(acc.get_balance())   "
   ]
  },
  {
   "cell_type": "code",
   "execution_count": 8,
   "id": "68eafcef",
   "metadata": {},
   "outputs": [
    {
     "name": "stdout",
     "output_type": "stream",
     "text": [
      "85.0\n",
      "95\n"
     ]
    }
   ],
   "source": [
    "'''2. Student Class with Average\n",
    "Attributes:\n",
    "* `name` → student name\n",
    "* `marks` → list of student marks `[90, 80, 85]`\n",
    "Methods:\n",
    "* `get_average()` → returns average marks\n",
    "* `add_mark(mark)` → add new score\n",
    "* `get_highest()` → return highest mark\n",
    "* `get_lowest()` → return lowest mark\n",
    "Example:\n",
    "```python\n",
    "s = Student(\"Tom\", [90, 80, 85])\n",
    "print(s.get_average())   # (90+80+85)/3 = 85.0\n",
    "s.add_mark(95)           # marks = [90,80,85,95]\n",
    "print(s.get_highest())   # 95\n",
    "```\n",
    "Output:\n",
    "```\n",
    "85.0\n",
    "95\n",
    "```\n",
    "---'''\n",
    "class Student:\n",
    "    def __init__(self,name,marks):\n",
    "        self.name=name\n",
    "        self.marks=marks\n",
    "    def get_average(self):\n",
    "        return sum(self.marks) / len(self.marks) if self.marks else 0\n",
    "    def add_mark(self,mark):\n",
    "        self.marks.append(mark)\n",
    "    def get_highest(self):\n",
    "        return max(self.marks) if self.marks else None\n",
    "    def get_lowest(self):\n",
    "        return min(self.marks) if self.marks else None\n",
    "name=input()\n",
    "marks=list(map(int,input().split()))\n",
    "s=Student(name,marks)\n",
    "print(s.get_average())\n",
    "mark=int(input(\"Enter marks to add:\"))\n",
    "s.add_mark(mark)          \n",
    "print(s.get_highest()) \n",
    "\n",
    "        \n",
    "\n"
   ]
  },
  {
   "cell_type": "code",
   "execution_count": null,
   "id": "c425bb18",
   "metadata": {},
   "outputs": [
    {
     "name": "stdout",
     "output_type": "stream",
     "text": [
      "10000.0\n"
     ]
    }
   ],
   "source": [
    "'''3. Employee Bonus System\n",
    "Attributes:\n",
    "* `name` → employee name\n",
    "* `salary` → base salary\n",
    "* `role` → role of employee (e.g., Manager, Developer, Intern)\n",
    "Methods:\n",
    "* `bonus()` → calculates bonus depending on role:\n",
    "  * Manager → 20% of salary\n",
    "  * Developer → 10% of salary\n",
    "  * Intern → 5% of salary\n",
    "Example:\n",
    "m = Manager(\"Alice\", 50000)\n",
    "print(m.bonus())\n",
    "Output:\n",
    "10000\n",
    "'''\n",
    "class Employee:\n",
    "    def __init__(self, name, salary):\n",
    "        self.name = name\n",
    "        self.salary = salary\n",
    "    def bonus(self):\n",
    "        return 0   \n",
    "class Manager(Employee):\n",
    "    def bonus(self):\n",
    "        return self.salary * 0.20\n",
    "class Developer(Employee):\n",
    "    def bonus(self):\n",
    "        return self.salary * 0.10\n",
    "class Intern(Employee):\n",
    "    def bonus(self):\n",
    "        return self.salary * 0.05\n",
    "m = Manager(\"Alice\", 50000)\n",
    "print(m.bonus())  "
   ]
  },
  {
   "cell_type": "code",
   "execution_count": 14,
   "id": "7aac358b",
   "metadata": {},
   "outputs": [
    {
     "name": "stdout",
     "output_type": "stream",
     "text": [
      "153.94\n",
      "20\n"
     ]
    }
   ],
   "source": [
    "'''4. Shape Area Calculator\n",
    "Base Class (Shape):\n",
    "*Attribute: `name`\n",
    "*Method: `area()` → to be overridden by subclasses\n",
    "Subclasses:\n",
    "* `Circle(radius)` → area = π * r²\n",
    "* `Rectangle(width, height)` → area = width * height\n",
    "Example:\n",
    "c = Circle(7)\n",
    "print(c.area())\n",
    "r = Rectangle(4, 5)\n",
    "print(r.area())\n",
    "Output:\n",
    "153.94\n",
    "20\n",
    "'''\n",
    "import math\n",
    "class Shape:\n",
    "    def __init__(self, name):\n",
    "        self.name = name\n",
    "    def area(self):\n",
    "        print(\"Subclasses must override area() method\")\n",
    "class Circle(Shape):\n",
    "    def __init__(self, radius):\n",
    "        super().__init__(\"Circle\")\n",
    "        self.radius = radius\n",
    "    def area(self):\n",
    "        return round(math.pi * (self.radius ** 2), 2)\n",
    "class Rectangle(Shape):\n",
    "    def __init__(self, width, height):\n",
    "        super().__init__(\"Rectangle\")\n",
    "        self.width = width\n",
    "        self.height = height\n",
    "\n",
    "    def area(self):\n",
    "        return self.width * self.height\n",
    "r=int(input(\"Enter radius of circle\"))\n",
    "c = Circle(r)\n",
    "print(c.area()) \n",
    "w,h=map(int,input(\"enter width and height\").split())\n",
    "rr = Rectangle(w,h)\n",
    "print(rr.area())  \n"
   ]
  },
  {
   "cell_type": "code",
   "execution_count": 15,
   "id": "29f99497",
   "metadata": {},
   "outputs": [
    {
     "name": "stdout",
     "output_type": "stream",
     "text": [
      "Total = 2000\n",
      "Shirt: 500\n",
      "Shoes: 1500\n",
      "Total = 1500\n"
     ]
    }
   ],
   "source": [
    "'''5. E-commerce Order Class\n",
    "Attributes:\n",
    "* `items` → dictionary of items `{name: price}`\n",
    "Methods:\n",
    "* `add(item, price)` → adds an item to order\n",
    "* `remove(item)` → removes item\n",
    "* `calculate_total()` → returns total price of all items\n",
    "* `show_items()` → lists all items in order\n",
    "Example:\n",
    "```python\n",
    "order = Order()\n",
    "order.add(\"Shirt\", 500)\n",
    "order.add(\"Shoes\", 1500)\n",
    "print(order.calculate_total())\n",
    "Output:\n",
    "Total = 2000\n",
    "'''\n",
    "class Order:\n",
    "    def __init__(self):\n",
    "        self.items = {}\n",
    "    def add(self, item, price):\n",
    "        self.items[item] = price\n",
    "    def remove(self, item):\n",
    "        if item in self.items:\n",
    "            del self.items[item]\n",
    "        else:\n",
    "            print(f\"{item} not found in order.\")\n",
    "    def calculate_total(self):\n",
    "        return sum(self.items.values())\n",
    "    def show_items(self):\n",
    "        if not self.items:\n",
    "            print(\"No items in order.\")\n",
    "        else:\n",
    "            for item, price in self.items.items():\n",
    "                print(f\"{item}: {price}\")\n",
    "order = Order()\n",
    "order.add(\"Shirt\", 500)\n",
    "order.add(\"Shoes\", 1500)\n",
    "print(\"Total =\", order.calculate_total()) \n",
    "order.show_items()  \n",
    "order.remove(\"Shirt\")\n",
    "print(\"Total =\", order.calculate_total())  \n"
   ]
  }
 ],
 "metadata": {
  "kernelspec": {
   "display_name": "Python 3",
   "language": "python",
   "name": "python3"
  },
  "language_info": {
   "codemirror_mode": {
    "name": "ipython",
    "version": 3
   },
   "file_extension": ".py",
   "mimetype": "text/x-python",
   "name": "python",
   "nbconvert_exporter": "python",
   "pygments_lexer": "ipython3",
   "version": "3.11.0"
  }
 },
 "nbformat": 4,
 "nbformat_minor": 5
}
