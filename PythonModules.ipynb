{
 "cells": [
  {
   "cell_type": "code",
   "execution_count": 1,
   "id": "d572c5e8",
   "metadata": {},
   "outputs": [
    {
     "name": "stdout",
     "output_type": "stream",
     "text": [
      "3mVDHg\n"
     ]
    }
   ],
   "source": [
    "'''1. Random Password Generator (`random`, `string`)\n",
    "* Input: `length=6`\n",
    "* Output: `\"aB9@xQ\"`'''\n",
    "import random\n",
    "import string\n",
    "def generate_password(length=6):\n",
    "    chars = string.ascii_letters + string.digits + string.punctuation\n",
    "    return ''.join(random.choice(chars) for _ in range(length))\n",
    "length = int(input(\"Enter password length: \"))\n",
    "print(generate_password(length))\n"
   ]
  },
  {
   "cell_type": "code",
   "execution_count": 4,
   "id": "363104d4",
   "metadata": {},
   "outputs": [
    {
     "name": "stdout",
     "output_type": "stream",
     "text": [
      "(2.23606797749979, 120, -0.9589242746631385, 0.28366218546322625)\n"
     ]
    }
   ],
   "source": [
    "'''2. Simple Calculator with `math`\n",
    "* Perform sqrt, factorial, sin, cos.\n",
    "* Input: `sqrt(25)`\n",
    "* Output: `5.0`'''\n",
    "import math\n",
    "def cal_math_fun(a):\n",
    "    return math.sqrt(a),math.factorial(a),math.sin(a),math.cos(a)\n",
    "a=int(input())\n",
    "print(cal_math_fun(a))"
   ]
  },
  {
   "cell_type": "code",
   "execution_count": 5,
   "id": "35992e4d",
   "metadata": {},
   "outputs": [
    {
     "name": "stdout",
     "output_type": "stream",
     "text": [
      "Counter({'cat': 2, 'dog': 1})\n"
     ]
    }
   ],
   "source": [
    "'''3. Word Frequency Counter (`collections.Counter`)\n",
    "* Input: `\"cat dog cat\"`\n",
    "* Output: `{'cat':2,'dog':1}`'''\n",
    "from collections import Counter\n",
    "def freq_count(a):\n",
    "    a=Counter(a)\n",
    "    return a\n",
    "s=input().split()\n",
    "print(freq_count(s))"
   ]
  },
  {
   "cell_type": "code",
   "execution_count": 9,
   "id": "3f5dde15",
   "metadata": {},
   "outputs": [
    {
     "name": "stdout",
     "output_type": "stream",
     "text": [
      "Weather: Cloudy, Temp: 32°C\n"
     ]
    }
   ],
   "source": [
    "'''4. Weather Simulator (`random`)\n",
    "* Input: None\n",
    "* Output: `\"Weather: Sunny, Temp: 32°C\"`\n",
    "'''\n",
    "import random\n",
    "def weather_simulator():\n",
    "    conditions = [\"Sunny\", \"Cloudy\", \"Rainy\", \"Stormy\", \"Snowy\", \"Windy\"]\n",
    "    weather = random.choice(conditions)\n",
    "    temp = random.randint(15, 40)\n",
    "    return f\"Weather: {weather}, Temp: {temp}°C\"\n",
    "print(weather_simulator())"
   ]
  },
  {
   "cell_type": "code",
   "execution_count": 17,
   "id": "3cc80f5a",
   "metadata": {},
   "outputs": [
    {
     "name": "stdout",
     "output_type": "stream",
     "text": [
      "5\n",
      "4\n",
      "3\n",
      "2\n",
      "1\n",
      "Time's up!\n"
     ]
    }
   ],
   "source": [
    "'''5. Timer Program (`time`)\n",
    "* Input: `countdown(5)`\n",
    "* Output:\n",
    "  ```\n",
    "  5  \n",
    "  4  \n",
    "  3  \n",
    "  2  \n",
    "  1  \n",
    "  Time's up!'''\n",
    "def timer(n):\n",
    "    for i in range(n,0,-1):\n",
    "        print(i)\n",
    "        if i==1:\n",
    "            print(\"Time's up!\")\n",
    "n=int(input())\n",
    "timer(n)\n"
   ]
  }
 ],
 "metadata": {
  "kernelspec": {
   "display_name": "Python 3",
   "language": "python",
   "name": "python3"
  },
  "language_info": {
   "codemirror_mode": {
    "name": "ipython",
    "version": 3
   },
   "file_extension": ".py",
   "mimetype": "text/x-python",
   "name": "python",
   "nbconvert_exporter": "python",
   "pygments_lexer": "ipython3",
   "version": "3.11.0"
  }
 },
 "nbformat": 4,
 "nbformat_minor": 5
}
